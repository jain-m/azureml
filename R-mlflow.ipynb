{
 "cells": [
  {
   "cell_type": "code",
   "execution_count": 3,
   "id": "60ae6abd",
   "metadata": {},
   "outputs": [
    {
     "name": "stdout",
     "output_type": "stream",
     "text": [
      "[1] \"Hello Manisha\"\n"
     ]
    }
   ],
   "source": [
    "s <- \"Hello Manisha\"\n",
    "print(s)"
   ]
  },
  {
   "cell_type": "code",
   "execution_count": 11,
   "id": "c456f14a",
   "metadata": {},
   "outputs": [
    {
     "name": "stderr",
     "output_type": "stream",
     "text": [
      "also installing the dependencies ‘forge’, ‘swagger’, ‘zeallot’\n",
      "\n",
      "\n"
     ]
    }
   ],
   "source": [
    "# https://www.mlflow.org/docs/latest/R-api.html#install-mlflow\n",
    "# Install mlflow and tcltk2 -- once per CI instance\n",
    "install.packages('mlflow', lib='.')\n",
    "library(mlflow, lib.loc='.')\n",
    "install_mlflow()\n",
    "\n",
    "install.packages('tcltk2', lib='.')\n",
    "install.packages(\"AzureAuth\", lib=\".\")\n"
   ]
  },
  {
   "cell_type": "code",
   "execution_count": 3,
   "id": "2e9df724",
   "metadata": {},
   "outputs": [
    {
     "name": "stderr",
     "output_type": "stream",
     "text": [
      "Loading required package: tcltk\n",
      "\n",
      "Warning message:\n",
      "“no DISPLAY variable so Tk is not available”\n",
      "\n",
      "Attaching package: ‘tcltk2’\n",
      "\n",
      "\n",
      "The following object is masked from ‘package:httr’:\n",
      "\n",
      "    config\n",
      "\n",
      "\n"
     ]
    }
   ],
   "source": [
    "library(mlflow, lib.loc='.')\n",
    "library(tcltk2, lib.loc='.')\n",
    "library(AzureAuth)\n",
    "source('azureml_utils.R')\n",
    "\n",
    "# Sys.getenv('MLFLOW_TRACKING_URI')"
   ]
  },
  {
   "cell_type": "code",
   "execution_count": 22,
   "id": "6d0b5a6c",
   "metadata": {},
   "outputs": [],
   "source": [
    "token <- get_managed_token(\"https://ml.azure.com/\")\n",
    "token <- extract_jwt(token)\n",
    "Sys.setenv(MLFLOW_TRACKING_TOKEN = token)\n",
    "# print(token)"
   ]
  },
  {
   "cell_type": "code",
   "execution_count": 26,
   "id": "71140f77",
   "metadata": {
    "scrolled": true
   },
   "outputs": [
    {
     "data": {
      "text/html": [
       "'03b4d0ed-157d-41ca-b035-a4e42a26b890'"
      ],
      "text/latex": [
       "'03b4d0ed-157d-41ca-b035-a4e42a26b890'"
      ],
      "text/markdown": [
       "'03b4d0ed-157d-41ca-b035-a4e42a26b890'"
      ],
      "text/plain": [
       "[1] \"03b4d0ed-157d-41ca-b035-a4e42a26b890\""
      ]
     },
     "metadata": {},
     "output_type": "display_data"
    }
   ],
   "source": [
    "mlflow_create_experiment('mjn-exp-1')"
   ]
  },
  {
   "cell_type": "code",
   "execution_count": 27,
   "id": "13c9285b",
   "metadata": {},
   "outputs": [],
   "source": [
    "with(mlflow_start_run(), {mlflow_log_metric(\"test\", 10)})\n"
   ]
  }
 ],
 "metadata": {
  "kernelspec": {
   "display_name": "R",
   "language": "R",
   "name": "ir"
  },
  "language_info": {
   "codemirror_mode": "r",
   "file_extension": ".r",
   "mimetype": "text/x-r-source",
   "name": "R",
   "pygments_lexer": "r",
   "version": "4.2.1"
  }
 },
 "nbformat": 4,
 "nbformat_minor": 5
}
