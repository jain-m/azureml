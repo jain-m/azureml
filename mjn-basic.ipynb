{
  "cells": [
    {
      "cell_type": "markdown",
      "source": [
        "# Traing and deploying models with Azure Machine Learning\n",
        "This tutorial covers the following\n",
        "- Import data from blob url\n",
        "- Train a Scikit learn linear regression model with MLflow and track it in AML\n",
        "- Register the trained model using MLflow into AML Model registry\n",
        "- Deploy registered model to an AML Managed Endpoint\n",
        "- Perform Inference againg the deployed Model\n",
        "\n",
        "In this example you will build a model to predict quality of wine based on quantitative features like the wine’s “fixed acidity”, “pH”, “residual sugar”, and so on. The dataset is from UCI’s machine learning repository.\n"
      ],
      "metadata": {
        "nteract": {
          "transient": {
            "deleting": false
          }
        }
      }
    },
    {
      "cell_type": "markdown",
      "source": [
        "# Requirements\n",
        "\n",
        "- An Azure Machine Learning workspace. For more information, see [Create an Azure Machine Learning workspace](https://docs.microsoft.com/en-us/azure/machine-learning/how-to-manage-workspace).\n",
        "- An Azure Machine Learning Compute Instance. For more information, see [Create an Compute Instance](https://docs.microsoft.com/en-us/azure/machine-learning/how-to-create-manage-compute-instance?tabs=azure-studio#create) or use an existing Compute Instance.\n",
        "- The Azure CLI extension for [Machine Learning Service (v2)](https://docs.microsoft.com/en-us/azure/machine-learning/how-to-configure-cli?tabs=public). It is pre-installed on Compute Instance\n",
        "  - To ensure no version conflict: for \"name: ml\", version should be \"2.x\"\n",
        "- Upload this notebook to Compute Instance by clicking on **Upload Files** instead of **Create new file** option as shown in [how to manage files in Compute Instance](https://docs.microsoft.com/en-us/azure/machine-learning/how-to-manage-files)\n",
        "- Accessing terminal on Compute Instance. For more information, see [Accessing a compute instance terminal](https://docs.microsoft.com/en-us/azure/machine-learning/how-to-access-terminal)\n"
      ],
      "metadata": {
        "nteract": {
          "transient": {
            "deleting": false
          }
        }
      }
    },
    {
      "cell_type": "markdown",
      "source": [
        "# Setup\r\n"
      ],
      "metadata": {
        "nteract": {
          "transient": {
            "deleting": false
          }
        }
      }
    },
    {
      "cell_type": "code",
      "source": [
        "# enter details of your AML workspace\r\n",
        "subscription_id = \"b17253fa-f327-42d6-9686-f3e553e24763\" #\"Data Science VM Team\"\r\n",
        "resource_group = \"mjn-dpv2-cli\"\r\n",
        "workspace = \"mjn-dpv2\"\r\n",
        "\r\n",
        "model_name = \"ElasticnetWineModel-7-11\"\r\n",
        "endpoint_name = \"mjn-wine-quality-7-11\"\r\n",
        "deployment_name=\"blue-7-11\""
      ],
      "outputs": [],
      "execution_count": null,
      "metadata": {
        "jupyter": {
          "source_hidden": false,
          "outputs_hidden": false
        },
        "nteract": {
          "transient": {
            "deleting": false
          }
        }
      }
    },
    {
      "cell_type": "markdown",
      "source": [
        "# Train and Register the model\r\n"
      ],
      "metadata": {
        "nteract": {
          "transient": {
            "deleting": false
          }
        }
      }
    },
    {
      "cell_type": "markdown",
      "source": [
        "**Import from a blob storage via URL**"
      ],
      "metadata": {
        "nteract": {
          "transient": {
            "deleting": false
          }
        }
      }
    },
    {
      "cell_type": "code",
      "source": [
        "import pandas as pd\n",
        "\n",
        "# Read the wine-quality csv file from the URL\n",
        "csv_url =\\\n",
        "    'https://akannava5717179148.blob.core.windows.net/publicdata/winequality-red.csv'\n",
        "try:\n",
        "    data = pd.read_csv(csv_url, sep=';')\n",
        "except Exception as e:\n",
        "    print(\"Unable to download training & test CSV, check your internet connection. Error: %s\", e)"
      ],
      "outputs": [],
      "execution_count": null,
      "metadata": {
        "jupyter": {
          "outputs_hidden": false,
          "source_hidden": false
        },
        "nteract": {
          "transient": {
            "deleting": false
          }
        }
      }
    },
    {
      "cell_type": "code",
      "source": [
        "data.head()"
      ],
      "outputs": [],
      "execution_count": null,
      "metadata": {
        "jupyter": {
          "outputs_hidden": false,
          "source_hidden": false
        },
        "nteract": {
          "transient": {
            "deleting": false
          }
        }
      }
    },
    {
      "cell_type": "markdown",
      "source": [
        "**Split data into two sets**\n",
        "- Training (75% of dataset used to traing model)\n",
        "- Validation (25% of dataset used for validation)"
      ],
      "metadata": {
        "nteract": {
          "transient": {
            "deleting": false
          }
        }
      }
    },
    {
      "cell_type": "code",
      "source": [
        "from sklearn.model_selection import train_test_split\n",
        "\n",
        "# Split the data into training and test sets. (0.75, 0.25) split.\n",
        " \n",
        "X = data.drop([\"quality\"], axis=1)\n",
        "y = data.quality\n",
        " \n",
        "# Split out the training data\n",
        "train_x, test_x, train_y, test_y = train_test_split(X, y, train_size=0.75)"
      ],
      "outputs": [],
      "execution_count": null,
      "metadata": {
        "jupyter": {
          "outputs_hidden": false,
          "source_hidden": false
        },
        "nteract": {
          "transient": {
            "deleting": false
          }
        }
      }
    },
    {
      "cell_type": "markdown",
      "source": [
        "**Train Scikit liner regression model with MLflow**\n",
        "\n",
        "Train [sklearn.linear_model.ElasticNet](http://scikit-learn.org/stable/modules/generated/sklearn.linear_model.ElasticNet.html) (uses mlflow autolog feature to track metrics). "
      ],
      "metadata": {
        "nteract": {
          "transient": {
            "deleting": false
          }
        }
      }
    },
    {
      "cell_type": "code",
      "source": [
        "import mlflow\n",
        "import mlflow.sklearn\n",
        "import pandas as pd\n",
        "import numpy as np\n",
        "from sklearn.linear_model import ElasticNet\n",
        "\n",
        "np.random.seed(40)\n",
        "\n",
        "# Enable autolog to log metrics, params, artifacts, models automatically\n",
        "mlflow.autolog(log_input_examples=True)\n",
        "\n",
        "alpha = 0.5\n",
        "l1_ratio = 0.5\n",
        "\n",
        "with mlflow.start_run() as run:\n",
        "    # Execute ElasticNet\n",
        "    lr = ElasticNet(alpha=alpha, l1_ratio=l1_ratio, random_state=42)\n",
        "    lr.fit(train_x, train_y)\n",
        "\n",
        "    predicted_qualities = lr.predict(test_x)\n",
        "\n",
        "print(\"Run id is {}\".format(run.info.run_id))"
      ],
      "outputs": [],
      "execution_count": null,
      "metadata": {
        "jupyter": {
          "outputs_hidden": false,
          "source_hidden": false
        },
        "nteract": {
          "transient": {
            "deleting": false
          }
        }
      }
    },
    {
      "cell_type": "markdown",
      "source": [
        "**Register in Model Registry**\n",
        "\n",
        "So that it can be used for inferencing."
      ],
      "metadata": {
        "nteract": {
          "transient": {
            "deleting": false
          }
        }
      }
    },
    {
      "cell_type": "code",
      "source": [
        "model_version  = mlflow.register_model(\n",
        "        \"runs:/{}/model\".format(run.info.run_id),\n",
        "        model_name\n",
        "    )"
      ],
      "outputs": [],
      "execution_count": null,
      "metadata": {
        "jupyter": {
          "outputs_hidden": false,
          "source_hidden": false
        },
        "nteract": {
          "transient": {
            "deleting": false
          }
        }
      }
    },
    {
      "cell_type": "markdown",
      "source": [
        "## Inference\n",
        "\n",
        "To productionize the model for predictions, use [Managed endpoints](https://docs.microsoft.com/en-us/azure/machine-learning/how-to-deploy-managed-online-endpoints) is an AzureML product that manages the inferencing infrastructure for customers, so that they can focus on their business logic. \n",
        "\n",
        "An endpoint is like a server customers can call with input data to get a prediction. The endpoint is also like a traffic manager where there can be multiple deployments behind it. Each deployment has different configuration on which model to use, what's the environment and how to invoke the model to get the prediction result.\n"
      ],
      "metadata": {
        "nteract": {
          "transient": {
            "deleting": false
          }
        }
      }
    },
    {
      "cell_type": "code",
      "source": [
        "# import required libraries\n",
        "from azure.ai.ml import MLClient\n",
        "from azure.ai.ml.entities import (\n",
        "    ManagedOnlineEndpoint,\n",
        "    ManagedOnlineDeployment,\n",
        "    Model,\n",
        "    Environment,\n",
        "    CodeConfiguration,\n",
        ")\n",
        "from azure.identity import DefaultAzureCredential\n",
        "from azure.ai.ml.constants import AssetTypes\n",
        "\n",
        "# get a handle to the workspace\n",
        "ml_client = MLClient(DefaultAzureCredential(), subscription_id, resource_group, workspace)"
      ],
      "outputs": [],
      "execution_count": null,
      "metadata": {}
    },
    {
      "cell_type": "markdown",
      "source": [
        "**Create an Endpoint**"
      ],
      "metadata": {
        "nteract": {
          "transient": {
            "deleting": false
          }
        }
      }
    },
    {
      "cell_type": "code",
      "source": [
        "endpoint = ManagedOnlineEndpoint(\n",
        "    name=endpoint_name,\n",
        "    description=\"this is a sample online endpoint for mlflow model\",\n",
        "    auth_mode=\"key\",\n",
        "    tags={\"foo\": \"bar\"},\n",
        ")\n",
        "ml_client.begin_create_or_update(endpoint)"
      ],
      "outputs": [],
      "execution_count": null,
      "metadata": {
        "jupyter": {
          "outputs_hidden": false,
          "source_hidden": false
        },
        "nteract": {
          "transient": {
            "deleting": false
          }
        }
      }
    },
    {
      "cell_type": "markdown",
      "source": [
        "**Create Deployment**"
      ],
      "metadata": {
        "nteract": {
          "transient": {
            "deleting": false
          }
        }
      }
    },
    {
      "cell_type": "code",
      "source": [
        "# az ml online-deployment create -f mir-deployment.yml --all-traffic\n",
        "\n",
        "model = ml_client.models.get(name=model_name, label=\"latest\");\n",
        "blue_deployment = ManagedOnlineDeployment(\n",
        "    name=deployment_name,\n",
        "    endpoint_name=endpoint_name,\n",
        "    model=model,\n",
        "    instance_type=\"Standard_DS2_v2\",\n",
        "    instance_count=1,\n",
        ")\n",
        "\n",
        "ml_client.online_deployments.begin_create_or_update(blue_deployment)\n",
        "\n",
        "# blue deployment takes 100 traffic\n",
        "endpoint.traffic = {deployment_name: 100}\n",
        "ml_client.begin_create_or_update(endpoint)"
      ],
      "outputs": [],
      "execution_count": null,
      "metadata": {
        "jupyter": {
          "outputs_hidden": false,
          "source_hidden": false
        },
        "nteract": {
          "transient": {
            "deleting": false
          }
        }
      }
    },
    {
      "cell_type": "markdown",
      "source": [
        "**Create request payload file**"
      ],
      "metadata": {
        "nteract": {
          "transient": {
            "deleting": false
          }
        }
      }
    },
    {
      "cell_type": "code",
      "source": [
        "%%writefile request-file.json\n",
        "{\n",
        "    \"input_data\": {\n",
        "        \"columns\": [\n",
        "            \"alcohol\",\n",
        "            \"chlorides\",\n",
        "            \"citric acid\",\n",
        "            \"density\",\n",
        "            \"fixed acidity\",\n",
        "            \"free sulfur dioxide\",\n",
        "            \"pH\",\n",
        "            \"residual sugar\",\n",
        "            \"sulphates\",\n",
        "            \"total sulfur dioxide\",\n",
        "            \"volatile acidity\"\n",
        "        ],\n",
        "        \"data\": [[7.4,0.7,0.0,1.9,0.076,11.0,34.0,0.9978,3.51,0.56,9.4]]\n",
        "    }\n",
        "}"
      ],
      "outputs": [],
      "execution_count": null,
      "metadata": {
        "jupyter": {
          "outputs_hidden": false,
          "source_hidden": false
        },
        "nteract": {
          "transient": {
            "deleting": false
          }
        }
      }
    },
    {
      "cell_type": "markdown",
      "source": [
        "**Invoke the enpoint**\r\n",
        "\r\n",
        "It should return a reponse like **\"\\[5.570454783358535\\]\"** giving a number indicating quality of wine"
      ],
      "metadata": {
        "nteract": {
          "transient": {
            "deleting": false
          }
        }
      }
    },
    {
      "cell_type": "code",
      "source": [
        "## az ml online-endpoint invoke --name <endpoint_name> --request-file request-file.json\n",
        "\n",
        "ml_client.online_endpoints.invoke(\n",
        "    endpoint_name=endpoint_name,\n",
        "    deployment_name=deployment_name,\n",
        "    request_file=\"request-file.json\",\n",
        ")\n"
      ],
      "outputs": [],
      "execution_count": null,
      "metadata": {
        "jupyter": {
          "outputs_hidden": false,
          "source_hidden": false
        },
        "nteract": {
          "transient": {
            "deleting": false
          }
        }
      }
    },
    {
      "cell_type": "markdown",
      "source": [
        "**Delete the deployment and endpoint**"
      ],
      "metadata": {
        "nteract": {
          "transient": {
            "deleting": false
          }
        }
      }
    },
    {
      "cell_type": "code",
      "source": [
        "ml_client.online_endpoints.begin_delete(name=endpoint_name)"
      ],
      "outputs": [],
      "execution_count": null,
      "metadata": {
        "jupyter": {
          "source_hidden": false,
          "outputs_hidden": false
        },
        "nteract": {
          "transient": {
            "deleting": false
          }
        }
      }
    }
  ],
  "metadata": {
    "kernel_info": {
      "name": "python38-azureml"
    },
    "kernelspec": {
      "name": "python38-azureml",
      "language": "python",
      "display_name": "Python 3.8 - AzureML"
    },
    "language_info": {
      "name": "python",
      "version": "3.8.5",
      "mimetype": "text/x-python",
      "codemirror_mode": {
        "name": "ipython",
        "version": 3
      },
      "pygments_lexer": "ipython3",
      "nbconvert_exporter": "python",
      "file_extension": ".py"
    },
    "nteract": {
      "version": "nteract-front-end@1.0.0"
    }
  },
  "nbformat": 4,
  "nbformat_minor": 0
}