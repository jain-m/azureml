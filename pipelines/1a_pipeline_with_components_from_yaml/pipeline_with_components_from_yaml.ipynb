{
  "cells": [
    {
      "cell_type": "markdown",
      "source": [
        "# Build Pipeline with Components from yaml\n",
        "\n",
        "**Requirements** - In order to benefit from this tutorial, you will need:\n",
        "- A basic understanding of Machine Learning\n",
        "- An Azure account with an active subscription - [Create an account for free](https://azure.microsoft.com/free/?WT.mc_id=A261C142F)\n",
        "- An Azure ML workspace with computer cluster - [Configure workspace](../../configuration.ipynb)\n",
        "- A python environment\n",
        "- Installed Azure Machine Learning Python SDK v2 - [install instructions](../../../README.md) - check the getting started section\n",
        "\n",
        "**Learning Objectives** - By the end of this tutorial, you should be able to:\n",
        "- Connect to your AML workspace from the Python SDK\n",
        "- Define and load `CommandComponent` from YAML\n",
        "- Create `Pipeline` using loaded component.\n",
        "\n",
        "**Motivations** - This notebook covers the scenario that user define components using yaml then use these components to build pipeline."
      ],
      "metadata": {}
    },
    {
      "cell_type": "markdown",
      "source": [
        "# 1. Connect to Azure Machine Learning Workspace\n",
        "\n",
        "The [workspace](https://docs.microsoft.com/en-us/azure/machine-learning/concept-workspace) is the top-level resource for Azure Machine Learning, providing a centralized place to work with all the artifacts you create when you use Azure Machine Learning. In this section we will connect to the workspace in which the job will be run.\n",
        "\n",
        "## 1.1 Import the required libraries"
      ],
      "metadata": {}
    },
    {
      "cell_type": "code",
      "source": [
        "# Import required libraries\n",
        "from azure.identity import DefaultAzureCredential, InteractiveBrowserCredential\n",
        "\n",
        "from azure.ai.ml import MLClient, Input\n",
        "from azure.ai.ml.dsl import pipeline\n",
        "from azure.ai.ml import load_component"
      ],
      "outputs": [],
      "execution_count": 20,
      "metadata": {
        "gather": {
          "logged": 1672262681459
        }
      }
    },
    {
      "cell_type": "markdown",
      "source": [
        "## 1.2 Configure credential\n",
        "\n",
        "We are using `DefaultAzureCredential` to get access to workspace. \n",
        "`DefaultAzureCredential` should be capable of handling most Azure SDK authentication scenarios. \n",
        "\n",
        "Reference for more available credentials if it does not work for you: [configure credential example](../../configuration.ipynb), [azure-identity reference doc](https://docs.microsoft.com/en-us/python/api/azure-identity/azure.identity?view=azure-python)."
      ],
      "metadata": {}
    },
    {
      "cell_type": "code",
      "source": [
        "try:\n",
        "    credential = DefaultAzureCredential()\n",
        "    # Check if given credential can get token successfully.\n",
        "    credential.get_token(\"https://management.azure.com/.default\")\n",
        "except Exception as ex:\n",
        "    # Fall back to InteractiveBrowserCredential in case DefaultAzureCredential not work\n",
        "    credential = InteractiveBrowserCredential()"
      ],
      "outputs": [],
      "execution_count": 12,
      "metadata": {
        "gather": {
          "logged": 1671046299494
        }
      }
    },
    {
      "cell_type": "markdown",
      "source": [
        "## 1.3 Get a handle to the workspace\n",
        "\n",
        "We use config file to connect to a workspace. The Azure ML workspace should be configured with computer cluster. [Check this notebook for configure a workspace](../../configuration.ipynb)"
      ],
      "metadata": {}
    },
    {
      "cell_type": "code",
      "source": [
        "# Get a handle to workspace\n",
        "ml_client = MLClient.from_config(credential=credential)\n",
        "\n",
        "# Retrieve an already attached Azure Machine Learning Compute.\n",
        "cluster_name = \"mjn-cpu-cluster\"\n",
        "print(ml_client.compute.get(cluster_name))"
      ],
      "outputs": [
        {
          "output_type": "stream",
          "name": "stderr",
          "text": "Found the config file in: /config.json\n"
        },
        {
          "output_type": "stream",
          "name": "stdout",
          "text": "AmlCompute({'type': 'amlcompute', 'created_on': None, 'provisioning_state': 'Succeeded', 'provisioning_errors': None, 'name': 'mjn-cpu-cluster', 'description': None, 'tags': {}, 'properties': {}, 'id': '/subscriptions/b17253fa-f327-42d6-9686-f3e553e24763/resourceGroups/mjn-dpv2-cli/providers/Microsoft.MachineLearningServices/workspaces/mjn-dpv2/computes/mjn-cpu-cluster', 'Resource__source_path': None, 'base_path': '/mnt/batch/tasks/shared/LS_root/mounts/clusters/mjn-dpv2-ci/code/Users/manishajain/azureml-examples/mjn/pipelines/1a_pipeline_with_components_from_yaml', 'creation_context': None, 'serialize': <msrest.serialization.Serializer object at 0x7fd9852f14e0>, 'resource_id': None, 'location': 'eastus', 'size': 'STANDARD_DS3_V2', 'min_instances': 0, 'max_instances': 10, 'idle_time_before_scale_down': 7200.0, 'identity': None, 'ssh_public_access_enabled': True, 'ssh_settings': None, 'network_settings': <azure.ai.ml.entities._compute.compute.NetworkSettings object at 0x7fd97bfc1840>, 'tier': 'dedicated', 'subnet': None})\n"
        }
      ],
      "execution_count": 13,
      "metadata": {
        "gather": {
          "logged": 1671046304009
        }
      }
    },
    {
      "cell_type": "markdown",
      "source": [
        "# 2. Define and create components into workspace\n",
        "## 2.1 Load components from YAML"
      ],
      "metadata": {}
    },
    {
      "cell_type": "code",
      "source": [
        "parent_dir = \".\"\n",
        "train_model = load_component(source=parent_dir + \"/train_model.yml\")\n",
        "score_data = load_component(source=parent_dir + \"/score_data.yml\")\n",
        "eval_model = load_component(source=parent_dir + \"/eval_model.yml\")"
      ],
      "outputs": [],
      "execution_count": 14,
      "metadata": {
        "gather": {
          "logged": 1671046340854
        }
      }
    },
    {
      "cell_type": "markdown",
      "source": [
        "## 2.2 Inspect loaded component"
      ],
      "metadata": {}
    },
    {
      "cell_type": "code",
      "source": [
        "# Print the component as yaml\n",
        "print(train_model)"
      ],
      "outputs": [
        {
          "output_type": "stream",
          "name": "stdout",
          "text": "$schema: https://azuremlschemas.azureedge.net/latest/commandComponent.schema.json\nname: train_model\nversion: 0.0.1\ndisplay_name: Train Model\ndescription: A dummy training component\ntype: command\ninputs:\n  training_data:\n    type: uri_folder\n  max_epochs:\n    type: integer\n    default: '3'\n  learning_rate:\n    type: number\n    default: '0.01'\n  learning_rate_schedule:\n    type: string\n    default: time-based\noutputs:\n  model_output:\n    type: uri_folder\ncommand: python train.py  --training_data ${{inputs.training_data}}  --max_epochs\n  ${{inputs.max_epochs}}  --learning_rate ${{inputs.learning_rate}}  --learning_rate_schedule\n  ${{inputs.learning_rate_schedule}}  --model_output ${{outputs.model_output}}\nenvironment: azureml:AzureML-sklearn-0.24-ubuntu18.04-py37-cpu:5\ncode: ./train_src\ntags: {}\nis_deterministic: true\n\n"
        }
      ],
      "execution_count": 15,
      "metadata": {
        "gather": {
          "logged": 1671046344860
        }
      }
    },
    {
      "cell_type": "code",
      "source": [
        "# Inspect more information\n",
        "print(type(train_model))\n",
        "help(train_model._func)"
      ],
      "outputs": [
        {
          "output_type": "stream",
          "name": "stdout",
          "text": "<class 'azure.ai.ml.entities._component.command_component.CommandComponent'>\nHelp on function [component] Train Model:\n\n[component] Train Model(*, training_data: 'uri_folder' = None, max_epochs: 'int' = None, learning_rate: 'float' = None, learning_rate_schedule: 'str' = None)\n    A dummy training component\n    \n    Component yaml:\n    ```yaml\n    $schema: https://azuremlschemas.azureedge.net/latest/commandComponent.schema.json\n    name: train_model\n    version: 0.0.1\n    display_name: Train Model\n    description: A dummy training component\n    type: command\n    inputs:\n      training_data:\n        type: uri_folder\n      max_epochs:\n        type: integer\n        default: '3'\n      learning_rate:\n        type: number\n        default: '0.01'\n      learning_rate_schedule:\n        type: string\n        default: time-based\n    outputs:\n      model_output:\n        type: uri_folder\n    command: python train.py  --training_data ${{inputs.training_data}}  --max_epochs\n      ${{inputs.max_epochs}}  --learning_rate ${{inputs.learning_rate}}  --learning_rate_schedule\n      ${{inputs.learning_rate_schedule}}  --model_output ${{outputs.model_output}}\n    environment: azureml:AzureML-sklearn-0.24-ubuntu18.04-py37-cpu:5\n    code: ./train_src\n    tags: {}\n    is_deterministic: true\n    \n    ```\n\n"
        }
      ],
      "execution_count": 16,
      "metadata": {
        "gather": {
          "logged": 1671046360703
        }
      }
    },
    {
      "cell_type": "markdown",
      "source": [
        "# 3. Sample pipeline job\n",
        "## 3.1 Build pipeline"
      ],
      "metadata": {}
    },
    {
      "cell_type": "code",
      "source": [
        "# Construct pipeline\n",
        "@pipeline()\n",
        "def pipeline_with_components_from_yaml(\n",
        "    training_input,\n",
        "    test_input,\n",
        "    training_max_epochs=20,\n",
        "    training_learning_rate=1.8,\n",
        "    learning_rate_schedule=\"time-based\",\n",
        "):\n",
        "    \"\"\"E2E dummy train-score-eval pipeline with components defined via yaml.\"\"\"\n",
        "    # Call component obj as function: apply given inputs & parameters to create a node in pipeline\n",
        "    train_with_sample_data = train_model(\n",
        "        training_data=training_input,\n",
        "        max_epochs=training_max_epochs,\n",
        "        learning_rate=training_learning_rate,\n",
        "        learning_rate_schedule=learning_rate_schedule,\n",
        "    )\n",
        "\n",
        "    score_with_sample_data = score_data(\n",
        "        model_input=train_with_sample_data.outputs.model_output, test_data=test_input\n",
        "    )\n",
        "    score_with_sample_data.outputs.score_output.mode = \"upload\"\n",
        "\n",
        "    eval_with_sample_data = eval_model(\n",
        "        scoring_result=score_with_sample_data.outputs.score_output\n",
        "    )\n",
        "\n",
        "    # Return: pipeline outputs\n",
        "    return {\n",
        "        \"trained_model\": train_with_sample_data.outputs.model_output,\n",
        "        \"scored_data\": score_with_sample_data.outputs.score_output,\n",
        "        \"evaluation_report\": eval_with_sample_data.outputs.eval_output,\n",
        "    }\n",
        "\n",
        "\n",
        "pipeline_job = pipeline_with_components_from_yaml(\n",
        "    training_input=Input(type=\"uri_folder\", path=parent_dir + \"/data/\"),\n",
        "    test_input=Input(type=\"uri_folder\", path=parent_dir + \"/data/\"),\n",
        "    training_max_epochs=20,\n",
        "    training_learning_rate=1.8,\n",
        "    learning_rate_schedule=\"time-based\",\n",
        ")\n",
        "\n",
        "# set pipeline level compute\n",
        "pipeline_job.settings.default_compute = \"mjn-cpu-cluster\""
      ],
      "outputs": [],
      "execution_count": 17,
      "metadata": {
        "gather": {
          "logged": 1671046370122
        }
      }
    },
    {
      "cell_type": "code",
      "source": [
        "# Inspect built pipeline\n",
        "print(pipeline_job)"
      ],
      "outputs": [
        {
          "output_type": "stream",
          "name": "stdout",
          "text": "display_name: pipeline_with_components_from_yaml\ndescription: E2E dummy train-score-eval pipeline with components defined via yaml.\ntype: pipeline\ninputs:\n  training_input:\n    type: uri_folder\n    path: azureml:./data/\n  test_input:\n    type: uri_folder\n    path: azureml:./data/\n  training_max_epochs: 20\n  training_learning_rate: 1.8\n  learning_rate_schedule: time-based\noutputs:\n  trained_model: null\n  scored_data: null\n  evaluation_report: null\njobs:\n  train_with_sample_data:\n    type: command\n    inputs:\n      training_data:\n        path: ${{parent.inputs.training_input}}\n      max_epochs:\n        path: ${{parent.inputs.training_max_epochs}}\n      learning_rate:\n        path: ${{parent.inputs.training_learning_rate}}\n      learning_rate_schedule:\n        path: ${{parent.inputs.learning_rate_schedule}}\n    outputs:\n      model_output: ${{parent.outputs.trained_model}}\n    code: /mnt/batch/tasks/shared/LS_root/mounts/clusters/mjn-dpv2-ci/code/Users/manishajain/azureml-examples/mjn/pipelines/1a_pipeline_with_components_from_yaml/train_src\n    properties: {}\n    component:\n      $schema: https://azuremlschemas.azureedge.net/latest/commandComponent.schema.json\n      name: train_model\n      version: 0.0.1\n      display_name: Train Model\n      description: A dummy training component\n      type: command\n      inputs:\n        training_data:\n          type: uri_folder\n        max_epochs:\n          type: integer\n          default: '3'\n        learning_rate:\n          type: number\n          default: '0.01'\n        learning_rate_schedule:\n          type: string\n          default: time-based\n      outputs:\n        model_output:\n          type: uri_folder\n      command: python train.py  --training_data ${{inputs.training_data}}  --max_epochs\n        ${{inputs.max_epochs}}  --learning_rate ${{inputs.learning_rate}}  --learning_rate_schedule\n        ${{inputs.learning_rate_schedule}}  --model_output ${{outputs.model_output}}\n      environment: azureml:AzureML-sklearn-0.24-ubuntu18.04-py37-cpu:5\n      code: /mnt/batch/tasks/shared/LS_root/mounts/clusters/mjn-dpv2-ci/code/Users/manishajain/azureml-examples/mjn/pipelines/1a_pipeline_with_components_from_yaml/train_src\n      tags: {}\n      is_deterministic: true\n    environment_variables: {}\n  score_with_sample_data:\n    type: command\n    inputs:\n      model_input:\n        path: ${{parent.jobs.train_with_sample_data.outputs.model_output}}\n      test_data:\n        path: ${{parent.inputs.test_input}}\n    outputs:\n      score_output:\n        mode: upload\n        type: uri_folder\n        path: ${{parent.outputs.scored_data}}\n    code: /mnt/batch/tasks/shared/LS_root/mounts/clusters/mjn-dpv2-ci/code/Users/manishajain/azureml-examples/mjn/pipelines/1a_pipeline_with_components_from_yaml/score_src\n    properties: {}\n    component:\n      $schema: https://azuremlschemas.azureedge.net/latest/commandComponent.schema.json\n      name: score_data\n      version: 0.0.1\n      display_name: Score Data\n      description: A dummy scoring component\n      type: command\n      inputs:\n        model_input:\n          type: uri_folder\n        test_data:\n          type: uri_folder\n      outputs:\n        score_output:\n          type: uri_folder\n      command: python score.py  --model_input ${{inputs.model_input}}  --test_data\n        ${{inputs.test_data}} --score_output ${{outputs.score_output}}\n      environment: azureml:AzureML-sklearn-0.24-ubuntu18.04-py37-cpu:5\n      code: /mnt/batch/tasks/shared/LS_root/mounts/clusters/mjn-dpv2-ci/code/Users/manishajain/azureml-examples/mjn/pipelines/1a_pipeline_with_components_from_yaml/score_src\n      tags: {}\n      is_deterministic: true\n    environment_variables: {}\n  eval_with_sample_data:\n    type: command\n    inputs:\n      scoring_result:\n        path: ${{parent.jobs.score_with_sample_data.outputs.score_output}}\n    outputs:\n      eval_output: ${{parent.outputs.evaluation_report}}\n    code: /mnt/batch/tasks/shared/LS_root/mounts/clusters/mjn-dpv2-ci/code/Users/manishajain/azureml-examples/mjn/pipelines/1a_pipeline_with_components_from_yaml/eval_src\n    properties: {}\n    component:\n      $schema: https://azuremlschemas.azureedge.net/latest/commandComponent.schema.json\n      name: eval_model\n      version: 0.0.1\n      display_name: Eval Model\n      description: A dummy evaluate component\n      type: command\n      inputs:\n        scoring_result:\n          type: uri_folder\n      outputs:\n        eval_output:\n          type: uri_folder\n      command: python eval.py  --scoring_result ${{inputs.scoring_result}}  --eval_output\n        ${{outputs.eval_output}}\n      environment: azureml:AzureML-sklearn-0.24-ubuntu18.04-py37-cpu:5\n      code: /mnt/batch/tasks/shared/LS_root/mounts/clusters/mjn-dpv2-ci/code/Users/manishajain/azureml-examples/mjn/pipelines/1a_pipeline_with_components_from_yaml/eval_src\n      tags: {}\n      is_deterministic: true\n    environment_variables: {}\ntags: {}\nproperties: {}\nsettings:\n  default_compute: azureml:mjn-cpu-cluster\n\n"
        }
      ],
      "execution_count": 18,
      "metadata": {
        "gather": {
          "logged": 1671046375810
        }
      }
    },
    {
      "cell_type": "markdown",
      "source": [
        "## 3.2 Submit pipeline job"
      ],
      "metadata": {}
    },
    {
      "cell_type": "code",
      "source": [
        "# Submit pipeline job to workspace\n",
        "pipeline_job = ml_client.jobs.create_or_update(pipeline_job, experiment_name=\"mjn-pipeline_samples\")\n",
        "pipeline_job"
      ],
      "outputs": [
        {
          "output_type": "execute_result",
          "execution_count": 19,
          "data": {
            "text/plain": "PipelineJob({'inputs': {'training_input': <azure.ai.ml.entities._job.pipeline._io.base.PipelineInput object at 0x7fd9850a7df0>, 'test_input': <azure.ai.ml.entities._job.pipeline._io.base.PipelineInput object at 0x7fd9850a6ce0>, 'training_max_epochs': <azure.ai.ml.entities._job.pipeline._io.base.PipelineInput object at 0x7fd9850a7460>, 'training_learning_rate': <azure.ai.ml.entities._job.pipeline._io.base.PipelineInput object at 0x7fd9850a5570>, 'learning_rate_schedule': <azure.ai.ml.entities._job.pipeline._io.base.PipelineInput object at 0x7fd9850a73a0>}, 'outputs': {'trained_model': <azure.ai.ml.entities._job.pipeline._io.base.PipelineOutput object at 0x7fd9850a7b50>, 'scored_data': <azure.ai.ml.entities._job.pipeline._io.base.PipelineOutput object at 0x7fd9850a71c0>, 'evaluation_report': <azure.ai.ml.entities._job.pipeline._io.base.PipelineOutput object at 0x7fd9850a6b90>}, 'jobs': {}, 'component': PipelineComponent({'auto_increment_version': False, 'source': 'REMOTE.WORKSPACE.JOB', 'is_anonymous': True, 'name': 'azureml_anonymous', 'description': 'E2E dummy train-score-eval pipeline with components defined via yaml.', 'tags': {}, 'properties': {}, 'id': None, 'Resource__source_path': None, 'base_path': None, 'creation_context': None, 'serialize': <msrest.serialization.Serializer object at 0x7fd9850a5630>, 'version': '1', 'latest_version': None, 'schema': None, 'type': 'pipeline', 'display_name': 'pipeline_with_components_from_yaml', 'is_deterministic': None, 'inputs': {'training_input': {}, 'test_input': {}, 'training_max_epochs': {}, 'training_learning_rate': {}, 'learning_rate_schedule': {}}, 'outputs': {'trained_model': {}, 'scored_data': {}, 'evaluation_report': {}}, 'yaml_str': None, 'other_parameter': {}, 'jobs': {'train_with_sample_data': Command({'parameters': {}, 'init': False, 'type': 'command', 'status': None, 'log_files': None, 'name': 'train_with_sample_data', 'description': None, 'tags': {}, 'properties': {}, 'id': None, 'Resource__source_path': None, 'base_path': None, 'creation_context': None, 'serialize': <msrest.serialization.Serializer object at 0x7fd98520abc0>, 'allowed_keys': {}, 'key_restriction': False, 'logger': <Logger attr_dict (WARNING)>, 'display_name': None, 'experiment_name': None, 'compute': None, 'services': None, 'comment': None, 'job_inputs': {'training_data': '${{parent.inputs.training_input}}', 'max_epochs': '${{parent.inputs.training_max_epochs}}', 'learning_rate': '${{parent.inputs.training_learning_rate}}', 'learning_rate_schedule': '${{parent.inputs.learning_rate_schedule}}'}, 'job_outputs': {'model_output': '${{parent.outputs.trained_model}}'}, 'inputs': {'training_data': <azure.ai.ml.entities._job.pipeline._io.base.NodeInput object at 0x7fd98520ab00>, 'max_epochs': <azure.ai.ml.entities._job.pipeline._io.base.NodeInput object at 0x7fd98520a8f0>, 'learning_rate': <azure.ai.ml.entities._job.pipeline._io.base.NodeInput object at 0x7fd985208ca0>, 'learning_rate_schedule': <azure.ai.ml.entities._job.pipeline._io.base.NodeInput object at 0x7fd9850a7c40>}, 'outputs': {'model_output': <azure.ai.ml.entities._job.pipeline._io.base.NodeOutput object at 0x7fd9850a49d0>}, 'component': 'azureml_anonymous:9fb41382-ab9b-433d-8476-d0f22bf61c06', 'referenced_control_flow_node_instance_id': None, 'kwargs': {'services': None}, 'instance_id': '2d337f03-2a17-4702-8b1c-82207e48e4f6', 'source': 'REMOTE.WORKSPACE.COMPONENT', 'limits': None, 'identity': None, 'distribution': None, 'environment_variables': {}, 'environment': None, 'resources': None, 'swept': False}), 'score_with_sample_data': Command({'parameters': {}, 'init': False, 'type': 'command', 'status': None, 'log_files': None, 'name': 'score_with_sample_data', 'description': None, 'tags': {}, 'properties': {}, 'id': None, 'Resource__source_path': None, 'base_path': None, 'creation_context': None, 'serialize': <msrest.serialization.Serializer object at 0x7fd9850a4730>, 'allowed_keys': {}, 'key_restriction': False, 'logger': <Logger attr_dict (WARNING)>, 'display_name': None, 'experiment_name': None, 'compute': None, 'services': None, 'comment': None, 'job_inputs': {'model_input': '${{parent.jobs.train_with_sample_data.outputs.model_output}}', 'test_data': '${{parent.inputs.test_input}}'}, 'job_outputs': {'score_output': {'type': 'uri_folder', 'path': '${{parent.outputs.scored_data}}', 'mode': 'upload'}}, 'inputs': {'model_input': <azure.ai.ml.entities._job.pipeline._io.base.NodeInput object at 0x7fd9850a6c20>, 'test_data': <azure.ai.ml.entities._job.pipeline._io.base.NodeInput object at 0x7fd9850a77c0>}, 'outputs': {'score_output': <azure.ai.ml.entities._job.pipeline._io.base.NodeOutput object at 0x7fd9850a6110>}, 'component': 'azureml_anonymous:ad7fe7dd-5980-426f-b6cb-42b33d45d15a', 'referenced_control_flow_node_instance_id': None, 'kwargs': {'services': None}, 'instance_id': 'e007de33-29a8-4272-88c0-480da57ad518', 'source': 'REMOTE.WORKSPACE.COMPONENT', 'limits': None, 'identity': None, 'distribution': None, 'environment_variables': {}, 'environment': None, 'resources': None, 'swept': False}), 'eval_with_sample_data': Command({'parameters': {}, 'init': False, 'type': 'command', 'status': None, 'log_files': None, 'name': 'eval_with_sample_data', 'description': None, 'tags': {}, 'properties': {}, 'id': None, 'Resource__source_path': None, 'base_path': None, 'creation_context': None, 'serialize': <msrest.serialization.Serializer object at 0x7fd9850a7e80>, 'allowed_keys': {}, 'key_restriction': False, 'logger': <Logger attr_dict (WARNING)>, 'display_name': None, 'experiment_name': None, 'compute': None, 'services': None, 'comment': None, 'job_inputs': {'scoring_result': '${{parent.jobs.score_with_sample_data.outputs.score_output}}'}, 'job_outputs': {'eval_output': '${{parent.outputs.evaluation_report}}'}, 'inputs': {'scoring_result': <azure.ai.ml.entities._job.pipeline._io.base.NodeInput object at 0x7fd9850a7d90>}, 'outputs': {'eval_output': <azure.ai.ml.entities._job.pipeline._io.base.NodeOutput object at 0x7fd9850a6440>}, 'component': 'azureml_anonymous:c8033b7d-352f-4938-bf82-97dd3f375727', 'referenced_control_flow_node_instance_id': None, 'kwargs': {'services': None}, 'instance_id': '894204d2-b93a-42e6-849e-c288951a4cdb', 'source': 'REMOTE.WORKSPACE.COMPONENT', 'limits': None, 'identity': None, 'distribution': None, 'environment_variables': {}, 'environment': None, 'resources': None, 'swept': False})}, 'job_types': {'command': 3}, 'job_sources': {'REMOTE.WORKSPACE.COMPONENT': 3}, 'source_job_id': None}), 'type': 'pipeline', 'status': 'Preparing', 'log_files': None, 'name': 'quirky_tail_s24xv710st', 'description': 'E2E dummy train-score-eval pipeline with components defined via yaml.', 'tags': {}, 'properties': {'azureml.DevPlatv2': 'true', 'azureml.runsource': 'azureml.PipelineRun', 'runSource': 'MFE', 'runType': 'HTTP', 'azureml.parameters': '{\"training_max_epochs\":\"20\",\"training_learning_rate\":\"1.8\",\"learning_rate_schedule\":\"time-based\"}', 'azureml.continue_on_step_failure': 'False', 'azureml.continue_on_failed_optional_input': 'True', 'azureml.defaultComputeName': 'mjn-cpu-cluster', 'azureml.defaultDataStoreName': 'workspaceblobstore', 'azureml.pipelineComponent': 'pipelinerun'}, 'id': '/subscriptions/b17253fa-f327-42d6-9686-f3e553e24763/resourceGroups/mjn-dpv2-cli/providers/Microsoft.MachineLearningServices/workspaces/mjn-dpv2/jobs/quirky_tail_s24xv710st', 'Resource__source_path': None, 'base_path': '/mnt/batch/tasks/shared/LS_root/mounts/clusters/mjn-dpv2-ci/code/Users/manishajain/azureml-examples/mjn/pipelines/1a_pipeline_with_components_from_yaml', 'creation_context': <azure.ai.ml.entities._system_data.SystemData object at 0x7fd9850a6050>, 'serialize': <msrest.serialization.Serializer object at 0x7fd9850a7370>, 'display_name': 'pipeline_with_components_from_yaml', 'experiment_name': 'mjn-pipeline_samples', 'compute': None, 'services': {'Tracking': <azure.ai.ml._restclient.v2022_10_01_preview.models._models_py3.JobService object at 0x7fd985208040>, 'Studio': <azure.ai.ml._restclient.v2022_10_01_preview.models._models_py3.JobService object at 0x7fd985209cf0>}, 'settings': {}, 'identity': None, 'default_code': None, 'default_environment': None})",
            "text/html": "<table style=\"width:100%\"><tr><th>Experiment</th><th>Name</th><th>Type</th><th>Status</th><th>Details Page</th></tr><tr><td>mjn-pipeline_samples</td><td>quirky_tail_s24xv710st</td><td>pipeline</td><td>Preparing</td><td><a href=\"https://ml.azure.com/runs/quirky_tail_s24xv710st?wsid=/subscriptions/b17253fa-f327-42d6-9686-f3e553e24763/resourcegroups/mjn-dpv2-cli/workspaces/mjn-dpv2&amp;tid=72f988bf-86f1-41af-91ab-2d7cd011db47\" target=\"_blank\" rel=\"noopener\">Link to Azure Machine Learning studio</a></td></tr></table>"
          },
          "metadata": {}
        }
      ],
      "execution_count": 19,
      "metadata": {
        "gather": {
          "logged": 1671046400451
        }
      }
    },
    {
      "cell_type": "code",
      "source": [
        "# Wait until the job completes\n",
        "ml_client.jobs.stream(pipeline_job.name)"
      ],
      "outputs": [],
      "execution_count": null,
      "metadata": {
        "gather": {
          "logged": 1671044061342
        }
      }
    },
    {
      "cell_type": "markdown",
      "source": [
        "# Next Steps\n",
        "You can see further examples of running a pipeline job [here](../README.md)"
      ],
      "metadata": {}
    }
  ],
  "metadata": {
    "description": {
      "description": "Create pipeline with CommandComponents from local YAML file"
    },
    "interpreter": {
      "hash": "3e9e0e270b75c5e6da2e22113ba4f77b864d68f95da6601809c29e46c73ae6bb"
    },
    "kernelspec": {
      "name": "python310-sdkv2",
      "language": "python",
      "display_name": "Python 3.10 - SDK V2"
    },
    "language_info": {
      "name": "python",
      "version": "3.10.6",
      "mimetype": "text/x-python",
      "codemirror_mode": {
        "name": "ipython",
        "version": 3
      },
      "pygments_lexer": "ipython3",
      "nbconvert_exporter": "python",
      "file_extension": ".py"
    },
    "categories": [
      "SDK v2",
      "sdk",
      "python",
      "jobs",
      "pipelines"
    ],
    "kernel_info": {
      "name": "python310-sdkv2"
    },
    "nteract": {
      "version": "nteract-front-end@1.0.0"
    },
    "microsoft": {
      "host": {
        "AzureML": {
          "notebookHasBeenCompleted": true
        }
      }
    }
  },
  "nbformat": 4,
  "nbformat_minor": 2
}