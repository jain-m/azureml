{
  "cells": [
    {
      "cell_type": "markdown",
      "source": [
        "# Build pipeline with command_component decorated python function\n",
        "\n",
        "**Requirements** - In order to benefit from this tutorial, you will need:\n",
        "- A basic understanding of Machine Learning\n",
        "- An Azure account with an active subscription - [Create an account for free](https://azure.microsoft.com/free/?WT.mc_id=A261C142F)\n",
        "- An Azure ML workspace with computer cluster - [Configure workspace](../../configuration.ipynb)\n",
        "- A python environment\n",
        "- Installed Azure Machine Learning Python SDK v2 - [install instructions](../../../README.md) - check the getting started section\n",
        "\n",
        "**Learning Objectives** - By the end of this tutorial, you should be able to:\n",
        "- Connect to your AML workspace from the Python SDK\n",
        "- Define `CommandComponent` using python function and `command_component` decorator\n",
        "- Create `Pipeline` using component defined by `command_component`\n",
        "\n",
        "**Motivations** - This notebook explains how to define `CommandComponent` via Python function and `@command_component` decorator, then use command component to build pipeline.  "
      ],
      "metadata": {}
    },
    {
      "cell_type": "markdown",
      "source": [
        "# 1. Connect to Azure Machine Learning Workspace\n",
        "\n",
        "The [workspace](https://docs.microsoft.com/en-us/azure/machine-learning/concept-workspace) is the top-level resource for Azure Machine Learning, providing a centralized place to work with all the artifacts you create when you use Azure Machine Learning. In this section we will connect to the workspace in which the job will be run.\n",
        "\n",
        "## 1.1 Import the required libraries"
      ],
      "metadata": {}
    },
    {
      "cell_type": "code",
      "source": [
        "# import required libraries\n",
        "from azure.identity import DefaultAzureCredential, InteractiveBrowserCredential\n",
        "\n",
        "from azure.ai.ml import MLClient, Input, Output\n",
        "from azure.ai.ml.dsl import pipeline"
      ],
      "outputs": [],
      "execution_count": null,
      "metadata": {}
    },
    {
      "cell_type": "markdown",
      "source": [
        "## 1.2 Configure credential\n",
        "\n",
        "We are using `DefaultAzureCredential` to get access to workspace. \n",
        "`DefaultAzureCredential` should be capable of handling most Azure SDK authentication scenarios. \n",
        "\n",
        "Reference for more available credentials if it does not work for you: [configure credential example](../../configuration.ipynb), [azure-identity reference doc](https://docs.microsoft.com/en-us/python/api/azure-identity/azure.identity?view=azure-python)."
      ],
      "metadata": {}
    },
    {
      "cell_type": "code",
      "source": [
        "try:\n",
        "    credential = DefaultAzureCredential()\n",
        "    # Check if given credential can get token successfully.\n",
        "    credential.get_token(\"https://management.azure.com/.default\")\n",
        "except Exception as ex:\n",
        "    # Fall back to InteractiveBrowserCredential in case DefaultAzureCredential not work\n",
        "    credential = InteractiveBrowserCredential()"
      ],
      "outputs": [],
      "execution_count": null,
      "metadata": {}
    },
    {
      "cell_type": "markdown",
      "source": [
        "## 1.3 Get a handle to the workspace\n",
        "\n",
        "We use config file to connect to a workspace. The Azure ML workspace should be configured with computer cluster. [Check this notebook for configure a workspace](../../configuration.ipynb)"
      ],
      "metadata": {}
    },
    {
      "cell_type": "code",
      "source": [
        "# Get a handle to workspace\n",
        "ml_client = MLClient.from_config(credential=credential)\n",
        "\n",
        "# Retrieve an already attached Azure Machine Learning Compute.\n",
        "cluster_name = \"cpu-cluster\"\n",
        "print(ml_client.compute.get(cluster_name))"
      ],
      "outputs": [],
      "execution_count": null,
      "metadata": {}
    },
    {
      "cell_type": "markdown",
      "source": [
        "# 2. Import components that are defined with python function\n",
        "\n",
        "We defined three sample components using `command_component` decorator in [components.py](src/components.py)."
      ],
      "metadata": {}
    },
    {
      "cell_type": "code",
      "source": [
        "with open(\"src/components.py\") as fin:\n",
        "    print(fin.read())"
      ],
      "outputs": [],
      "execution_count": null,
      "metadata": {}
    },
    {
      "cell_type": "markdown",
      "source": [
        "**Note**: you need to install `mldesigner` package to use command_component decorator. \n",
        "\n",
        "`mldesigner` is a python SDK package designed to ease the authoring experience of components and pipelines."
      ],
      "metadata": {}
    },
    {
      "cell_type": "code",
      "source": [
        "# Option 1: install directly\n",
        "# %pip install mldesigner\n",
        "\n",
        "# Option 2: install as an extra dependency of azure-ai-ml\n",
        "# %pip install azure-ai-ml[designer]"
      ],
      "outputs": [],
      "execution_count": null,
      "metadata": {}
    },
    {
      "cell_type": "code",
      "source": [
        "%load_ext autoreload\n",
        "%autoreload 2\n",
        "# import the components as functions\n",
        "from src.components import train_model, score_data, eval_model\n",
        "\n",
        "help(train_model)"
      ],
      "outputs": [],
      "execution_count": null,
      "metadata": {}
    },
    {
      "cell_type": "markdown",
      "source": [
        "You can also register component functions to workspace use `ml_client.components.create_or_update()`."
      ],
      "metadata": {}
    },
    {
      "cell_type": "code",
      "source": [
        "print(train_model)"
      ],
      "outputs": [],
      "execution_count": null,
      "metadata": {}
    },
    {
      "cell_type": "markdown",
      "source": [
        "# 3. Sample pipeline job\n",
        "\n",
        "## 3.1 Build pipeline"
      ],
      "metadata": {}
    },
    {
      "cell_type": "code",
      "source": [
        "cluster_name = \"cpu-cluster\"\n",
        "custom_path = \"azureml://datastores/workspaceblobstore/paths/custom_path/${{name}}/\"\n",
        "\n",
        "# define a pipeline with component\n",
        "@pipeline(default_compute=cluster_name)\n",
        "def pipeline_with_python_function_components(input_data, test_data, learning_rate):\n",
        "    \"\"\"E2E dummy train-score-eval pipeline with components defined via python function components\"\"\"\n",
        "\n",
        "    # Call component obj as function: apply given inputs & parameters to create a node in pipeline\n",
        "    train_with_sample_data = train_model(\n",
        "        training_data=input_data, max_epochs=5, learning_rate=learning_rate\n",
        "    )\n",
        "    score_with_sample_data = score_data(\n",
        "        model_input=train_with_sample_data.outputs.model_output, test_data=test_data\n",
        "    )\n",
        "    # example how to change path of output on step level,\n",
        "    # please note if the output is promoted to pipeline level you need to change path in pipeline job level\n",
        "    score_with_sample_data.outputs.score_output = Output(\n",
        "        type=\"uri_folder\", mode=\"rw_mount\", path=custom_path\n",
        "    )\n",
        "    eval_with_sample_data = eval_model(\n",
        "        scoring_result=score_with_sample_data.outputs.score_output\n",
        "    )\n",
        "\n",
        "    # Return: pipeline outputs\n",
        "    return {\n",
        "        \"eval_output\": eval_with_sample_data.outputs.eval_output,\n",
        "        \"model_output\": train_with_sample_data.outputs.model_output,\n",
        "    }\n",
        "\n",
        "\n",
        "pipeline_job = pipeline_with_python_function_components(\n",
        "    input_data=Input(\n",
        "        path=\"wasbs://demo@dprepdata.blob.core.windows.net/Titanic.csv\", type=\"uri_file\"\n",
        "    ),\n",
        "    test_data=Input(\n",
        "        path=\"wasbs://demo@dprepdata.blob.core.windows.net/Titanic.csv\", type=\"uri_file\"\n",
        "    ),\n",
        "    learning_rate=0.1,\n",
        ")\n",
        "# example how to change path of output on pipeline level\n",
        "pipeline_job.outputs.model_output = Output(\n",
        "    type=\"uri_folder\", mode=\"rw_mount\", path=custom_path\n",
        ")"
      ],
      "outputs": [],
      "execution_count": null,
      "metadata": {}
    },
    {
      "cell_type": "markdown",
      "source": [
        "# 3.2 Submit pipeline job"
      ],
      "metadata": {}
    },
    {
      "cell_type": "code",
      "source": [
        "# submit job to workspace\n",
        "pipeline_job = ml_client.jobs.create_or_update(\n",
        "    pipeline_job, experiment_name=\"pipeline_samples\"\n",
        ")\n",
        "pipeline_job"
      ],
      "outputs": [],
      "execution_count": null,
      "metadata": {}
    },
    {
      "cell_type": "code",
      "source": [
        "# Wait until the job completes\n",
        "ml_client.jobs.stream(pipeline_job.name)"
      ],
      "outputs": [],
      "execution_count": null,
      "metadata": {}
    },
    {
      "cell_type": "markdown",
      "source": [
        "# Next Steps\n",
        "You can see further examples of running a pipeline job [here](../)"
      ],
      "metadata": {}
    }
  ],
  "metadata": {
    "description": {
      "description": "Create pipeline with command_component decorator"
    },
    "kernelspec": {
      "name": "python310-sdkv2",
      "language": "python",
      "display_name": "Python 3.10 - SDK V2"
    },
    "language_info": {
      "name": "python",
      "version": "3.10.6",
      "mimetype": "text/x-python",
      "codemirror_mode": {
        "name": "ipython",
        "version": 3
      },
      "pygments_lexer": "ipython3",
      "nbconvert_exporter": "python",
      "file_extension": ".py"
    },
    "vscode": {
      "interpreter": {
        "hash": "1324ca334ec51c2d7d081a2ba1becf817802a54f2b6ebeab7f4908360bcde2e0"
      }
    },
    "categories": [
      "SDK v2",
      "sdk",
      "python",
      "jobs",
      "pipelines"
    ],
    "kernel_info": {
      "name": "python310-sdkv2"
    },
    "nteract": {
      "version": "nteract-front-end@1.0.0"
    }
  },
  "nbformat": 4,
  "nbformat_minor": 2
}